{
 "cells": [
  {
   "cell_type": "code",
   "execution_count": 1,
   "metadata": {},
   "outputs": [],
   "source": [
    "#import libraries\n",
    "from surprise import Dataset\n",
    "from surprise import Reader\n",
    "from surprise import SVD\n",
    "from pathlib import Path\n",
    "from surprise.model_selection import GridSearchCV\n",
    "import pandas as pd\n",
    "import numpy as np\n"
   ]
  },
  {
   "cell_type": "code",
   "execution_count": 2,
   "metadata": {},
   "outputs": [],
   "source": [
    "#set up paths\n",
    "PATH = Path('../../')\n",
    "DATA= PATH/'data'\n",
    "CODE= PATH/'code'\n",
    "PRODUCTS=PATH/'products'\n",
    "WORKING_DATA= DATA/'working_data'"
   ]
  },
  {
   "cell_type": "code",
   "execution_count": 3,
   "metadata": {},
   "outputs": [],
   "source": [
    "ratings = pd.read_csv(WORKING_DATA/'ratings_small.csv')"
   ]
  },
  {
   "cell_type": "code",
   "execution_count": 4,
   "metadata": {},
   "outputs": [],
   "source": [
    "\n",
    "reader = Reader(rating_scale=(1, 5))\n",
    "\n",
    "data = Dataset.load_from_df(ratings[['userId','movieId','rating']], reader=reader)\n"
   ]
  },
  {
   "cell_type": "code",
   "execution_count": 5,
   "metadata": {
    "tags": []
   },
   "outputs": [
    {
     "name": "stdout",
     "output_type": "stream",
     "text": [
      "Evaluating RMSE, MAE of algorithm SVD on 5 split(s).\n",
      "\n",
      "                  Fold 1  Fold 2  Fold 3  Fold 4  Fold 5  Mean    Std     \n",
      "RMSE (testset)    0.8954  0.9059  0.8891  0.8941  0.8997  0.8968  0.0056  \n",
      "MAE (testset)     0.6887  0.7020  0.6837  0.6866  0.6916  0.6905  0.0063  \n",
      "Fit time          4.09    4.18    4.26    4.16    4.21    4.18    0.06    \n",
      "Test time         0.16    0.20    0.17    0.16    0.16    0.17    0.01    \n"
     ]
    },
    {
     "data": {
      "text/plain": [
       "{'test_rmse': array([0.89540837, 0.90587185, 0.88910481, 0.89405738, 0.89971335]),\n",
       " 'test_mae': array([0.68866573, 0.70197208, 0.68372907, 0.68664222, 0.69156839]),\n",
       " 'fit_time': (4.088038921356201,\n",
       "  4.178973913192749,\n",
       "  4.260190963745117,\n",
       "  4.159063100814819,\n",
       "  4.213087797164917),\n",
       " 'test_time': (0.162003755569458,\n",
       "  0.1979658603668213,\n",
       "  0.16675329208374023,\n",
       "  0.16228079795837402,\n",
       "  0.1646568775177002)}"
      ]
     },
     "execution_count": 5,
     "metadata": {},
     "output_type": "execute_result"
    }
   ],
   "source": [
    "#algorithm\n",
    "algo = SVD()\n",
    "\n",
    "# Run 5-fold cross-validation and print results.\n",
    "cross_validate(algo, data, measures=['RMSE', 'MAE'], cv=5, verbose=True)"
   ]
  },
  {
   "cell_type": "code",
   "execution_count": 6,
   "metadata": {},
   "outputs": [],
   "source": [
    "# param_grid = {'n_epochs': [5, 15], 'lr_all': [0.001, 0.005],\n",
    "#               'reg_all': [0.4, 0.6]}\n",
    "# gs = GridSearchCV(SVD, param_grid, measures=['rmse', 'mae'], cv=3)\n",
    "\n",
    "# gs.fit(data)\n",
    "\n",
    "# # best RMSE score\n",
    "# print(gs.best_score['rmse'])\n",
    "\n",
    "# # combination of parameters that gave the best RMSE score\n",
    "# print(gs.best_params['rmse'])"
   ]
  }
 ],
 "metadata": {
  "kernelspec": {
   "display_name": "Python 3.7.1 64-bit ('movie': conda)",
   "language": "python",
   "name": "python37164bitmovieconda3cae32089aa248a7afc5f55cc2b702fc"
  },
  "language_info": {
   "codemirror_mode": {
    "name": "ipython",
    "version": 3
   },
   "file_extension": ".py",
   "mimetype": "text/x-python",
   "name": "python",
   "nbconvert_exporter": "python",
   "pygments_lexer": "ipython3",
   "version": "3.7.7"
  }
 },
 "nbformat": 4,
 "nbformat_minor": 2
}
